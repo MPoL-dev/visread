{
 "cells": [
  {
   "cell_type": "code",
   "execution_count": 1,
   "id": "2a70806e",
   "metadata": {
    "execution": {
     "iopub.execute_input": "2021-05-26T15:03:28.189008Z",
     "iopub.status.busy": "2021-05-26T15:03:28.186736Z",
     "iopub.status.idle": "2021-05-26T15:03:29.120254Z",
     "shell.execute_reply": "2021-05-26T15:03:29.118530Z"
    },
    "nbsphinx": "hidden"
   },
   "outputs": [],
   "source": [
    "%matplotlib inline"
   ]
  },
  {
   "cell_type": "code",
   "execution_count": 2,
   "id": "3e1038fb",
   "metadata": {
    "execution": {
     "iopub.execute_input": "2021-05-26T15:03:29.139663Z",
     "iopub.status.busy": "2021-05-26T15:03:29.125860Z",
     "iopub.status.idle": "2021-05-26T15:03:29.144107Z",
     "shell.execute_reply": "2021-05-26T15:03:29.143488Z"
    },
    "nbsphinx": "hidden"
   },
   "outputs": [],
   "source": [
    "%run notebook_setup"
   ]
  },
  {
   "cell_type": "markdown",
   "id": "f8019385",
   "metadata": {},
   "source": [
    "# Introduction to Measurement Sets\n",
    "Before you begin, it's worthwhile reviewing the CASA documentation on measurement sets. The basics are [here](https://casa.nrao.edu/casadocs-devel/stable/casa-fundamentals/the-measurementset) and the description of the v2 format is [here](https://casa.nrao.edu/casadocs-devel/stable/casa-fundamentals/measurement-set). To make a long story short, a measurement set (e.g., ``my_ALMA_data.ms``) is a folder containing a set of binary 'tables' with your data and metadata. The contents within this measurement set folder serve as a [relational database](https://en.wikipedia.org/wiki/Relational_database). It helps to keep this structure in mind as we navigate its contents.\n",
    "\n",
    "CASA provides the [casabrowser/browsetable](https://casa.nrao.edu/casadocs-devel/stable/calibration-and-visibility-data/data-examination-and-editing/browse-a-table) tool, which is very handy for graphically exploring the structure and contents of this relational database. If something about the structure of the measurement set doesn't make sense, it's usually a good idea to open up *browsetable* and dig into the structure of the individual tables."
   ]
  },
  {
   "cell_type": "markdown",
   "id": "0694b7ab",
   "metadata": {},
   "source": [
    "# Introduction to casatools\n",
    "CASA provides a set of lower-level \"tools\" for direct interaction with the measurement set contents. The full API list is available [here](https://casa.nrao.edu/casadocs-devel/stable/global-tool-list)."
   ]
  },
  {
   "cell_type": "markdown",
   "id": "9b28f3dc",
   "metadata": {},
   "source": [
    "download logo_cube_noise and extract from https://zenodo.org/record/4711811#.YKzhspNKidY\n",
    "note that full simobserve commands available in the [mpoldatasets](https://github.com/MPoL-dev/mpoldatasets/tree/main/products/ALMA-logo) repository."
   ]
  },
  {
   "cell_type": "markdown",
   "id": "755a0e14",
   "metadata": {},
   "source": [
    "Use the simobserve cube dataset"
   ]
  },
  {
   "cell_type": "markdown",
   "id": "6b41f45a",
   "metadata": {},
   "source": [
    "* inspect column names\n",
    "* inspect num of spws\n",
    "* get number of channels\n",
    "* get frequencies\n",
    "* broadcast baselines and convert to klambda\n",
    "* inspect flags\n",
    "* query columns with tb.getcol (note multiple spws, multiple channels)\n",
    "* average polarizations and weights\n",
    "* query with ms.selectinit and ms.getdata\n",
    "* save data to numpy file for later use"
   ]
  }
 ],
 "metadata": {
  "kernelspec": {
   "display_name": "Python 3",
   "language": "python",
   "name": "python3"
  },
  "language_info": {
   "codemirror_mode": {
    "name": "ipython",
    "version": 3
   },
   "file_extension": ".py",
   "mimetype": "text/x-python",
   "name": "python",
   "nbconvert_exporter": "python",
   "pygments_lexer": "ipython3",
   "version": "3.6.13"
  }
 },
 "nbformat": 4,
 "nbformat_minor": 5
}
