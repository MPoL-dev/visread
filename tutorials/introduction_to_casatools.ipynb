{
 "cells": [
  {
   "cell_type": "code",
   "execution_count": 1,
   "id": "f0ee48bd",
   "metadata": {
    "execution": {
     "iopub.execute_input": "2021-05-26T14:20:45.430257Z",
     "iopub.status.busy": "2021-05-26T14:20:45.428626Z",
     "iopub.status.idle": "2021-05-26T14:20:46.304443Z",
     "shell.execute_reply": "2021-05-26T14:20:46.303330Z"
    },
    "nbsphinx": "hidden"
   },
   "outputs": [],
   "source": [
    "%matplotlib inline"
   ]
  },
  {
   "cell_type": "code",
   "execution_count": 2,
   "id": "8c58e253",
   "metadata": {
    "execution": {
     "iopub.execute_input": "2021-05-26T14:20:46.316294Z",
     "iopub.status.busy": "2021-05-26T14:20:46.308797Z",
     "iopub.status.idle": "2021-05-26T14:20:46.324106Z",
     "shell.execute_reply": "2021-05-26T14:20:46.323577Z"
    },
    "nbsphinx": "hidden"
   },
   "outputs": [],
   "source": [
    "%run notebook_setup"
   ]
  },
  {
   "cell_type": "markdown",
   "id": "3ac27d7b",
   "metadata": {},
   "source": [
    "# Introduction to Measurement Sets\n",
    "Before you begin, it's worthwhile reviewing the CASA documentation on measurement sets. The basics are [here](https://casa.nrao.edu/casadocs-devel/stable/casa-fundamentals/the-measurementset) and the description of the v2 format is [here](https://casa.nrao.edu/casadocs-devel/stable/casa-fundamentals/measurement-set). To make a long story short, a measurement set (e.g., ``my_ALMA_data.ms``) is a folder containing a set of binary 'tables' with your data and metadata. The contents within this measurement set folder serve as a [relational database](https://en.wikipedia.org/wiki/Relational_database). It helps to keep this structure in mind as we navigate its contents.\n",
    "\n",
    "CASA provides the [casabrowser/browsetable](https://casa.nrao.edu/casadocs-devel/stable/calibration-and-visibility-data/data-examination-and-editing/browse-a-table) tool, which is very handy for graphically exploring the structure and contents of this relational database. If something about the structure of the measurement set doesn't make sense, it's usually a good idea to open up *browsetable* and dig into the structure of the individual tables."
   ]
  },
  {
   "cell_type": "markdown",
   "id": "96cb88c2",
   "metadata": {},
   "source": [
    "# Introduction to casatools\n",
    "CASA provides a set of lower-level \"tools\" for direct interaction with the measurement set contents. The full API list is available [here](https://casa.nrao.edu/casadocs-devel/stable/global-tool-list)."
   ]
  },
  {
   "cell_type": "markdown",
   "id": "1de57378",
   "metadata": {},
   "source": [
    "download logo_cube_noise and extract from https://zenodo.org/record/4711811#.YKzhspNKidY\n",
    "note that full simobserve commands available in the [mpoldatasets](https://github.com/MPoL-dev/mpoldatasets/tree/main/products/ALMA-logo) repository."
   ]
  },
  {
   "cell_type": "markdown",
   "id": "aaedbc77",
   "metadata": {},
   "source": [
    "Use the simobserve cube dataset"
   ]
  },
  {
   "cell_type": "markdown",
   "id": "b5a927bc",
   "metadata": {},
   "source": [
    "* inspect column names\n",
    "* inspect num of spws\n",
    "* get number of channels\n",
    "* get frequencies\n",
    "* broadcast baselines and convert to klambda\n",
    "* inspect flags\n",
    "* query columns with tb.getcol (note multiple spws, multiple channels)\n",
    "* average polarizations and weights\n",
    "* query with ms.selectinit and ms.getdata\n",
    "* save data to numpy file for later use"
   ]
  }
 ],
 "metadata": {
  "kernelspec": {
   "display_name": "Python 3",
   "language": "python",
   "name": "python3"
  },
  "language_info": {
   "codemirror_mode": {
    "name": "ipython",
    "version": 3
   },
   "file_extension": ".py",
   "mimetype": "text/x-python",
   "name": "python",
   "nbconvert_exporter": "python",
   "pygments_lexer": "ipython3",
   "version": "3.6.13"
  }
 },
 "nbformat": 4,
 "nbformat_minor": 5
}
